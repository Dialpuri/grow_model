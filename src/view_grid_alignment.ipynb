{
 "cells": [
  {
   "cell_type": "code",
   "execution_count": null,
   "metadata": {},
   "outputs": [],
   "source": [
    "%matplotlib widget\n",
    "import matplotlib.pyplot as plt\n",
    "import align_pdb_to_box as align\n",
    "import numpy as np \n",
    "\n",
    "i = 0\n",
    "sum_data = np.zeros((16,16,16))\n",
    "for x in align.generate_dataset(\"train\"):\n",
    "    data, *torsions = x\n",
    "    print(i)\n",
    "    i+=1\n",
    "    sum_data += data\n",
    "    if i > 1: \n",
    "        break\n",
    "    \n",
    "average_data = sum_data / i\n",
    "    \n",
    "fig = plt.figure()\n",
    "ax = fig.add_subplot(projection='3d')\n",
    "index_list = np.arange(0,16)\n",
    "X,Y,Z = np.meshgrid(index_list, index_list, index_list)\n",
    "\n",
    "ax.scatter(X, Y, Z, s=100*average_data, c=average_data)\n",
    "\n",
    "ax.set_xlabel('X Label')\n",
    "ax.set_ylabel('Y Label')\n",
    "ax.set_zlabel('Z Label')\n",
    "\n",
    "plt.show()"
   ]
  }
 ],
 "metadata": {
  "kernelspec": {
   "display_name": "Python 3 (ipykernel)",
   "language": "python",
   "name": "python3"
  },
  "language_info": {
   "codemirror_mode": {
    "name": "ipython",
    "version": 3
   },
   "file_extension": ".py",
   "mimetype": "text/x-python",
   "name": "python",
   "nbconvert_exporter": "python",
   "pygments_lexer": "ipython3",
   "version": "3.10.12"
  },
  "orig_nbformat": 4
 },
 "nbformat": 4,
 "nbformat_minor": 2
}
